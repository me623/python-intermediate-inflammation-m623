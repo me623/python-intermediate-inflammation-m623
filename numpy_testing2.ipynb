{
 "cells": [
  {
   "cell_type": "code",
   "execution_count": null,
   "metadata": {},
   "outputs": [],
   "source": []
  }
 ],
 "metadata": {
  "kernelspec": {
   "display_name": "Python 3.10.8 ('venv': venv)",
   "language": "python",
   "name": "python3"
  },
  "language_info": {
   "name": "python",
   "version": "3.10.8"
  },
  "orig_nbformat": 4,
  "vscode": {
   "interpreter": {
    "hash": "d8ef42ee814a990699472197cf78dfa95d5c1a61ae51c840dd1a9116a4e70b72"
   }
  }
 },
 "nbformat": 4,
 "nbformat_minor": 2
}
