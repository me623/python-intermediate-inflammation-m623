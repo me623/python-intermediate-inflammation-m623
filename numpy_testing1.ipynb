{
 "cells": [
  {
   "cell_type": "code",
   "execution_count": 1,
   "metadata": {},
   "outputs": [],
   "source": [
    "import numpy as np\n",
    "import numpy.testing as npt"
   ]
  },
  {
   "cell_type": "code",
   "execution_count": 2,
   "metadata": {},
   "outputs": [
    {
     "data": {
      "text/plain": [
       "(60, 40)"
      ]
     },
     "execution_count": 2,
     "metadata": {},
     "output_type": "execute_result"
    }
   ],
   "source": [
    "data = np.loadtxt(\"data/inflammation-01.csv\", delimiter=\",\")\n",
    "data.shape"
   ]
  },
  {
   "cell_type": "code",
   "execution_count": 3,
   "metadata": {},
   "outputs": [],
   "source": [
    "from inflammation.models import daily_mean"
   ]
  },
  {
   "cell_type": "code",
   "execution_count": 4,
   "metadata": {},
   "outputs": [
    {
     "data": {
      "text/plain": [
       "array([3., 4.])"
      ]
     },
     "execution_count": 4,
     "metadata": {},
     "output_type": "execute_result"
    }
   ],
   "source": [
    "daily_mean([[1,2],\n",
    "            [3,4],\n",
    "            [5,6]])"
   ]
  },
  {
   "cell_type": "code",
   "execution_count": 5,
   "metadata": {},
   "outputs": [
    {
     "data": {
      "text/plain": [
       "array([ 0.  ,  0.5 ,  1.5 ,  1.75,  2.5 ,  1.75,  3.75,  3.  ,  5.25,\n",
       "        6.25,  7.  ,  7.  ,  7.  ,  8.  ,  5.75,  7.75,  8.5 , 11.  ,\n",
       "        9.75, 10.25, 15.  ,  8.75,  9.75, 10.  ,  8.  , 10.25,  8.  ,\n",
       "        5.5 ,  8.  ,  6.  ,  5.  ,  4.75,  4.75,  4.  ,  3.25,  4.  ,\n",
       "        1.75,  2.25,  0.75,  0.75])"
      ]
     },
     "execution_count": 5,
     "metadata": {},
     "output_type": "execute_result"
    }
   ],
   "source": [
    "daily_mean(data[0:4])"
   ]
  },
  {
   "cell_type": "code",
   "execution_count": 6,
   "metadata": {},
   "outputs": [],
   "source": [
    "test_input = np.array([[1,2],[3,4],[5,6]])\n",
    "test_result = np.array([3,4])\n",
    "npt.assert_array_equal(daily_mean(test_input), test_result)"
   ]
  },
  {
   "cell_type": "code",
   "execution_count": 7,
   "metadata": {},
   "outputs": [
    {
     "ename": "NameError",
     "evalue": "name 'test_result_2' is not defined",
     "output_type": "error",
     "traceback": [
      "\u001b[1;31m---------------------------------------------------------------------------\u001b[0m",
      "\u001b[1;31mNameError\u001b[0m                                 Traceback (most recent call last)",
      "Cell \u001b[1;32mIn [7], line 3\u001b[0m\n\u001b[0;32m      1\u001b[0m test_input\u001b[39m=\u001b[39m np\u001b[39m.\u001b[39marray([[\u001b[39m2\u001b[39m,\u001b[39m0\u001b[39m], [\u001b[39m4\u001b[39m,\u001b[39m0\u001b[39m]])\n\u001b[0;32m      2\u001b[0m test_result \u001b[39m=\u001b[39m np\u001b[39m.\u001b[39marray([\u001b[39m2\u001b[39m,\u001b[39m0\u001b[39m])\n\u001b[1;32m----> 3\u001b[0m npt\u001b[39m.\u001b[39massert_array_equal(daily_mean(test_input), test_result_2)\n",
      "\u001b[1;31mNameError\u001b[0m: name 'test_result_2' is not defined"
     ]
    }
   ],
   "source": [
    "test_input= np.array([[2,0], [4,0]])\n",
    "test_result = np.array([2,0])\n",
    "npt.assert_array_equal(daily_mean(test_input), test_result_2)"
   ]
  },
  {
   "cell_type": "code",
   "execution_count": null,
   "metadata": {},
   "outputs": [],
   "source": []
  }
 ],
 "metadata": {
  "kernelspec": {
   "display_name": "Python 3.10.8 ('venv': venv)",
   "language": "python",
   "name": "python3"
  },
  "language_info": {
   "codemirror_mode": {
    "name": "ipython",
    "version": 3
   },
   "file_extension": ".py",
   "mimetype": "text/x-python",
   "name": "python",
   "nbconvert_exporter": "python",
   "pygments_lexer": "ipython3",
   "version": "3.10.8"
  },
  "orig_nbformat": 4,
  "vscode": {
   "interpreter": {
    "hash": "d8ef42ee814a990699472197cf78dfa95d5c1a61ae51c840dd1a9116a4e70b72"
   }
  }
 },
 "nbformat": 4,
 "nbformat_minor": 2
}
